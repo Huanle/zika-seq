{
 "cells": [
  {
   "cell_type": "code",
   "execution_count": 1,
   "metadata": {
    "collapsed": false
   },
   "outputs": [],
   "source": [
    "import pysam\n",
    "from collections import defaultdict\n",
    "import numpy as np"
   ]
  },
  {
   "cell_type": "code",
   "execution_count": 3,
   "metadata": {
    "collapsed": true
   },
   "outputs": [],
   "source": [
    "# functions\n",
    "\n",
    "def read_fasta(infile_path):\n",
    "    seq_dict = {}\n",
    "    with open(infile_path,'rU') as file:\n",
    "        for line in file:\n",
    "            if line.startswith('>'):\n",
    "                header = line.strip().replace('>','')\n",
    "            else:\n",
    "                seq_dict[header] = line.strip()\n",
    "    return seq_dict\n"
   ]
  },
  {
   "cell_type": "markdown",
   "metadata": {},
   "source": [
    "## Do per-base average accuracy for VI41 reads (prior to nanopolishing)\n",
    "\n",
    "The VI41 BAM file has 448,035 reads assembled to reference KJ776791.2, which is a Zika genome sampled from French Polynesia on 28-Nov-2013, and sequenced on IonTorrent. VI41 was sequenced using ONT 1D ligation sequencing, and the consensus genome was generated using our `zika-seq` pipeline, including using Nanopolish."
   ]
  },
  {
   "cell_type": "code",
   "execution_count": 2,
   "metadata": {
    "collapsed": false
   },
   "outputs": [],
   "source": [
    "\n",
    "## note that length of the dict won't be the same as the length of the reference, because only sites with bases from read and reference are counted\n",
    "## IE if at one site all the reads have been softclipped, that won't get recorded in the dict\n",
    "\n",
    "compositionVI41 = defaultdict(dict) #NESTED DICT where key is index of reference, value is a dict with counts of A,C,G,T for all reads at that site.\n",
    "depthVI41 = defaultdict(int)\n",
    "bamVI41 = pysam.AlignmentFile(\"VI41.trimmed.sorted.bam\", \"rb\")\n",
    "\n",
    "for read in bamVI41:\n",
    "    for pair in read.aligned_pairs: #aligned_pairs is a tuple with where (index of read, index of reference) shows how read and reference align.\n",
    "        if pair[0] is not None and pair[1] is not None: #none indicates that this portion did not map to reference, and is soft trimmed in the bamfile.\n",
    "            depthVI41[pair[1]] += 1 #count that you have one read's coverage at that site\n",
    "            base_composition = compositionVI41[pair[1]] #stub out empty dict that is the value associated with the composition dict key (the reference index)\n",
    "            query_base = read.query_sequence[pair[0]] #what base is at this site for this read?\n",
    "            if not query_base in compositionVI41[pair[1]]:\n",
    "                compositionVI41[pair[1]][query_base] = 0 #add that base to the site i dict if you haven't seen the base before in any other read\n",
    "            compositionVI41[pair[1]][query_base] += 1 #count the occurrence of seeing that base at site i\n",
    "\n",
    "### To avoid any issues of adding keys to dict by querying a key that doesn't exist\n",
    "### convert default dicts to normal dicts.\n",
    "\n",
    "final_depthVI41 = dict(depthVI41)\n",
    "final_compositionVI41 = dict(compositionVI41)"
   ]
  },
  {
   "cell_type": "code",
   "execution_count": 6,
   "metadata": {
    "collapsed": false
   },
   "outputs": [
    {
     "name": "stdout",
     "output_type": "stream",
     "text": [
      "There are 10192 sites with read pileups present in the BAM file.\n"
     ]
    }
   ],
   "source": [
    "print 'There are {} sites with read pileups present in the BAM file.'.format(len(final_compositionVI41)) #how many keys are in here?\n",
    "assert len(final_depthVI41) == len(final_compositionVI41)"
   ]
  },
  {
   "cell_type": "code",
   "execution_count": 7,
   "metadata": {
    "collapsed": true
   },
   "outputs": [],
   "source": [
    "# import reference sequence \n",
    "with open('/Users/alliblk/Desktop/gitrepos/zika-seq/seq-validation/KJ776791.2.fasta','rU') as file:\n",
    "    for line in file:\n",
    "        if line.startswith('>'):\n",
    "            continue\n",
    "        else: \n",
    "            reference = line.strip()"
   ]
  },
  {
   "cell_type": "code",
   "execution_count": 8,
   "metadata": {
    "collapsed": true
   },
   "outputs": [],
   "source": [
    "# import consensus sequence for VI41\n",
    "with open('/Users/alliblk/Desktop/gitrepos/zika-seq/seq-validation/VI41.consensus.polished.fasta', 'rU') as file:\n",
    "    for line in file:\n",
    "        if line.startswith('>'):\n",
    "            continue\n",
    "        else: \n",
    "            consensusVI41 = line.strip()\n"
   ]
  },
  {
   "cell_type": "code",
   "execution_count": 13,
   "metadata": {
    "collapsed": false
   },
   "outputs": [
    {
     "name": "stdout",
     "output_type": "stream",
     "text": [
      "The mean per-base sequencing accuracy is 0.962493244973\n",
      "The standard deviation is 0.0373886072273\n",
      "\n",
      "\n",
      "The following 0-indexed sites in the genome had sequencing accuracies less than 50%, and warrant some investigation into what's going on: [5314, 10391]\n"
     ]
    }
   ],
   "source": [
    "# Calculate per base accuracy stats for VI41\n",
    "per_base_accuraciesVI41= []\n",
    "\n",
    "for i in range(len(consensusVI41)):\n",
    "    correct_base = consensusVI41[i]\n",
    "    if correct_base != 'N': #don't look at sites that were masked due to coverage issues, because we don't care about sites we don't actually call\n",
    "        proportion_reads_correct = float(final_compositionVI41[i][correct_base])/final_depthVI41[i] #do not need to worry about key errors because any sites without a BAM stack will have been called with 'N'\n",
    "        per_base_accuraciesVI41.append(proportion_reads_correct)\n",
    "    elif correct_base == 'N':\n",
    "        per_base_accuraciesVI41.append(float('NaN')) # do not calculate for sites we do not call.\n",
    "\n",
    "\n",
    "print \"The mean per-base sequencing accuracy is {}\".format(np.nanmean(per_base_accuraciesVI41))\n",
    "print \"The standard deviation is {}\".format(np.nanstd(per_base_accuraciesVI41))\n",
    "print '\\n'\n",
    "print \"The following 0-indexed sites in the genome had sequencing accuracies less than 50%, and warrant some investigation into what's going on: {}\".format([index for index,value in enumerate(per_base_accuraciesVI41) if value < 0.5])\n",
    "\n",
    "### This is interesting. This is a place where the majority consensus would have called a SNP, but nanopolish returned back to reference base.\n",
    "### Looking into this a bit more deeply in the cell below.\n"
   ]
  },
  {
   "cell_type": "code",
   "execution_count": 24,
   "metadata": {
    "collapsed": false
   },
   "outputs": [
    {
     "name": "stdout",
     "output_type": "stream",
     "text": [
      "The polished and BAM-generated consensus genomes disagreed at 0-indexed site 5314.\n",
      "The polished genome has a A, and the BAM-generated genome has a G\n",
      "The polished and BAM-generated consensus genomes disagreed at 0-indexed site 10391.\n",
      "The polished genome has a G, and the BAM-generated genome has a A\n",
      "\n",
      "\n",
      "Details about 0-indexed site 5314\n",
      "The sequencing accuracy at this site was 0.249393605292.\n",
      "Reference: A\n",
      "Polished: A\n",
      "Unpolished: G\n",
      "Read counts for each base from the read pileup at this site: {'A': 1131, 'C': 1, 'T': 4, 'G': 3399}.\n",
      "\n",
      "\n",
      "Details about 0-indexed site 10391\n",
      "The sequencing accuracy at this site was 0.0474751834268.\n",
      "Reference: G\n",
      "Polished: G\n",
      "Unpolished: A\n",
      "Read counts for each base from the read pileup at this site: {'A': 4156, 'C': 183, 'T': 75, 'G': 220}.\n"
     ]
    }
   ],
   "source": [
    "# Looking into some surprising places where BAM stack supported a variant (and direct consensus generation from BAM featured variant)\n",
    "# but where nanopolish reverted the site back to the same base as is present in the reference genome.\n",
    "\n",
    "VI41_dict = read_fasta('/Users/alliblk/Desktop/gitrepos/zika-seq/seq-validation/VI41-ref-nanopolish-comp-aligned.fasta')\n",
    "VI41_ref = VI41_dict['KJ776791.2_reference']\n",
    "VI41_polished = VI41_dict['VI41_albacore_polished']\n",
    "VI41_unpolished = VI41_dict['VI41_not_polished']\n",
    "\n",
    "#check that sites with seq-accuracy < 0.5 in fact show different bases between the BAM-generated consensus and the nanopolished consensus.\n",
    "index = 0\n",
    "for (a,b) in zip(VI41_polished,VI41_unpolished):\n",
    "    if a != b and a!='n' and b != 'n' and a!='-' and b != '-':\n",
    "        print \"The polished and BAM-generated consensus genomes disagreed at 0-indexed site {}.\".format(index)\n",
    "        print \"The polished genome has a {}, and the BAM-generated genome has a {}\".format(a.upper(),b.upper())\n",
    "    index += 1\n",
    "    \n",
    "print '\\n'\n",
    "print 'Details about 0-indexed site 5314'\n",
    "print 'The sequencing accuracy at this site was {}.'.format(per_base_accuraciesVI41[5314])\n",
    "print 'Reference: {}'.format(reference[5314])\n",
    "print 'Polished: {}'.format(VI41_polished[5314].upper())\n",
    "print 'Unpolished: {}'.format(VI41_unpolished[5314].upper())\n",
    "print 'Read counts for each base from the read pileup at this site: {}.'.format(final_compositionVI41[5314])\n",
    "print '\\n'\n",
    "print 'Details about 0-indexed site 10391'\n",
    "print 'The sequencing accuracy at this site was {}.'.format(per_base_accuraciesVI41[10391])\n",
    "print 'Reference: {}'.format(reference[10391])\n",
    "print 'Polished: {}'.format(VI41_polished[10391].upper())\n",
    "print 'Unpolished: {}'.format(VI41_unpolished[10391].upper())\n",
    "print 'Read counts for each base from the read pileup at this site: {}.'.format(final_compositionVI41[10391])"
   ]
  },
  {
   "cell_type": "markdown",
   "metadata": {},
   "source": [
    "## Per-base and average sequencing accuracy for VI42 reads (prior to nanopolishing)\n",
    "\n",
    "The VI42 BAM file has 48,367 reads assembled to reference KJ776791.2, which is a Zika genome sampled from French Polynesia on 28-Nov-2013, and sequenced on IonTorrent. VI42 was sequenced using ONT 1D ligation sequencing, and the consensus genome was generated using our `zika-seq` pipeline, including using Nanopolish."
   ]
  },
  {
   "cell_type": "code",
   "execution_count": 25,
   "metadata": {
    "collapsed": false
   },
   "outputs": [],
   "source": [
    "\n",
    "depthVI42 = defaultdict(int) #dict where key is index of the reference sequence (0 to 10808), value is total sum of all reads covering that site.\n",
    "compositionVI42 = defaultdict(dict)#NESTED DICT where key is index of reference, value is a dict with counts of A,C,G,T for all reads at that site.\n",
    "\n",
    "bamVI42 = pysam.AlignmentFile(\"VI42.trimmed.sorted.bam\", \"rb\")\n",
    "\n",
    "for read in bamVI42:\n",
    "    for pair in read.aligned_pairs: #aligned_pairs is a tuple with where (index of read, index of reference) shows how read and reference align.\n",
    "        if pair[0] is not None and pair[1] is not None: #none indicates that this portion did not map to reference, and is soft trimmed in the bamfile.\n",
    "            depthVI42[pair[1]] += 1 #count that you have one read's coverage at that site\n",
    "            base_composition = compositionVI42[pair[1]] #stub out empty dict that is the value associated with the composition dict key (the reference index)\n",
    "            query_base = read.query_sequence[pair[0]] #what base is at this site for this read?\n",
    "            if not query_base in compositionVI42[pair[1]]:\n",
    "                compositionVI42[pair[1]][query_base] = 0 #add that base to the site i dict if you haven't seen the base before in any other read\n",
    "            compositionVI42[pair[1]][query_base] += 1 #count the occurrence of seeing that base at site i\n",
    "\n",
    "#note that entries will still get added if there are ANY reads at all at a site, but that the consensus sequence is masked with N's\n",
    "#at any sites that have less than 20 nt of coverage. Therefore number of N's in the sequence != number of entries in the composition and depth dicts.\n",
    "\n",
    "final_depthVI42 = dict(depthVI42)\n",
    "final_compositionVI42 = dict(compositionVI42)"
   ]
  },
  {
   "cell_type": "code",
   "execution_count": 26,
   "metadata": {
    "collapsed": false
   },
   "outputs": [
    {
     "name": "stdout",
     "output_type": "stream",
     "text": [
      "There are 10374 sites with read pileups present in the BAM file.\n"
     ]
    }
   ],
   "source": [
    "print 'There are {} sites with read pileups present in the BAM file.'.format(len(final_compositionVI42))\n",
    "assert len(final_depthVI42) == len(final_compositionVI42)"
   ]
  },
  {
   "cell_type": "code",
   "execution_count": 27,
   "metadata": {
    "collapsed": false
   },
   "outputs": [],
   "source": [
    "with open('/Users/alliblk/Desktop/gitrepos/zika-seq/seq-validation/VI42.consensus.fasta', 'rU') as file:\n",
    "    for line in file:\n",
    "        if line.startswith('>'):\n",
    "            continue\n",
    "        else: \n",
    "            consensusVI42 = line.strip()"
   ]
  },
  {
   "cell_type": "code",
   "execution_count": 28,
   "metadata": {
    "collapsed": false
   },
   "outputs": [
    {
     "name": "stdout",
     "output_type": "stream",
     "text": [
      "The mean per-base sequencing accuracy is 0.96150134968\n",
      "The standard deviation is 0.039551503632\n",
      "\n",
      "\n",
      "The following 0-indexed sites in the genome had sequencing accuracies less than 50%, and warrant some investigation into what's going on: [1903, 5314, 5620]\n"
     ]
    }
   ],
   "source": [
    "per_base_accuraciesVI42= []\n",
    "\n",
    "for i in range(len(consensusVI42)):\n",
    "    correct_base = consensusVI42[i]\n",
    "    if correct_base != 'N': #don't look at sites that were masked due to coverage issues, because we don't care about sites we don't actually call\n",
    "        proportion_reads_correct = float(final_compositionVI42[i][correct_base])/final_depthVI42[i]\n",
    "        per_base_accuraciesVI42.append(proportion_reads_correct)\n",
    "    else:\n",
    "        per_base_accuraciesVI42.append(float('NaN'))\n",
    "        \n",
    "print \"The mean per-base sequencing accuracy is {}\".format(np.nanmean(per_base_accuraciesVI42))\n",
    "print \"The standard deviation is {}\".format(np.nanstd(per_base_accuraciesVI42))\n",
    "print '\\n'\n",
    "print \"The following 0-indexed sites in the genome had sequencing accuracies less than 50%, and warrant some investigation into what's going on: {}\".format([index for index,value in enumerate(per_base_accuraciesVI42) if value < 0.5])\n"
   ]
  }
 ],
 "metadata": {
  "kernelspec": {
   "display_name": "Python 2",
   "language": "python",
   "name": "python2"
  },
  "language_info": {
   "codemirror_mode": {
    "name": "ipython",
    "version": 2
   },
   "file_extension": ".py",
   "mimetype": "text/x-python",
   "name": "python",
   "nbconvert_exporter": "python",
   "pygments_lexer": "ipython2",
   "version": "2.7.10"
  }
 },
 "nbformat": 4,
 "nbformat_minor": 0
}
