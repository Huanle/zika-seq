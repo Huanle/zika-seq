{
 "cells": [
  {
   "cell_type": "code",
   "execution_count": 1,
   "metadata": {
    "collapsed": false
   },
   "outputs": [],
   "source": [
    "from collections import defaultdict"
   ]
  },
  {
   "cell_type": "markdown",
   "metadata": {},
   "source": [
    "Our goal here is to perform some validation of the old and new MinION base callers (Metrichor and Albacore respectively). For two samples we also have validation data from the Illumina MiSeq.\n",
    "\n",
    "We assess the following possibilities, counting how many instances of each possibility occur. If a possibility does not occur, it will not be output.\n",
    "\n",
    "For samples that have genomes generated with Metrichor, Albacore, and were also sequenced on the MiSeq:\n",
    "\n",
    "* All platforms call the same SNP: `all_platforms_call_same_SNP`\n",
    "* Metrichor calls a SNP, MiSeq and reference match: `metrichor_calls_SNP,miseq_and_ref_match`\n",
    "* Metrichor calls a SNP, MiSeq, Metrichor, and reference match: `metrichor_calls_SNP,albacore_msq_and_ref_match`\n",
    "* Albacore calls a SNP, MiSeq and reference match: `albacore_calls_SNP,miseq_and_ref_match`\n",
    "* Albacore calls a SNP, MiSeq, Metrichor, and reference match: `albacore_calls_SNP,metrichor_miseq_and_ref_match`               \n",
    "* Albacore and Metrichor call the same SNP, MiSeq matches reference: `albacore_metrichor_call_SNP,miseq_matches_ref`\n",
    "* MiSeq calls a SNP, Metrichor, Albacore, and reference match: `miseq_calls_SNP,metrichor_albacore_ref_match` \n",
    "* MiSeq and reference agree, Metrichor and Albacore different SNPs from each other: `miseq_and_ref_agree,albacore_metrichor_each_call_diff_SNPs`\n",
    "\n",
    "\n",
    "For samples that only have genomes generated with Metrichor or with Albacore, the options are:\n",
    "\n",
    "* Metrichor calls a SNP, Albacore and reference match: `albacore_and_ref_match,metrichor_calls_SNP`\n",
    "* Albacore calls a SNP, Metrichor and reference match : `metrichor_and_ref_match,albacore_calls_SNP`\n",
    "* Metrichor and Albacore agree on SNP: `metrichor_and_albacore_call_SNP`\n"
   ]
  },
  {
   "cell_type": "code",
   "execution_count": 88,
   "metadata": {
    "collapsed": false
   },
   "outputs": [],
   "source": [
    "def assess_matching( reference_seq, metrichor_seq, albacore_seq, miseq_seq = None):\n",
    "    match_count_dict = defaultdict(list)\n",
    "    \n",
    "    if miseq_seq:\n",
    "        for (a,b,c,d) in zip(reference_seq, metrichor_seq, albacore_seq, miseq_seq):\n",
    "            if '-' in (a,b,c,d):\n",
    "                continue\n",
    "            elif 'n' in (a,b,c,d):\n",
    "                continue\n",
    "            else:\n",
    "                if b == c == d and a!= b: #all platforms call the same SNP\n",
    "                    match_count_dict['all_platforms_call_same_SNP'].append((a,b,c,d))\n",
    "                \n",
    "                elif b != d and a == d: #miseq and ref match, metrichor calls SNP\n",
    "                    match_count_dict['metrichor_calls_SNP,miseq_and_ref_match'].append((a,b,c,d))\n",
    "                \n",
    "                elif c != d and a == d: #miseq and ref match, albacore calls SNP\n",
    "                    match_count_dict['albacore_calls_SNP,miseq_and_ref_match'].append((a,b,c,d))\n",
    "                    \n",
    "                elif a == b == d and a != c: #albacore calls SNP, metri,ref, and miseq agree \n",
    "                    match_count_dict['albacore_calls_SNP,metrichor_miseq_and_ref_match'].append((a,b,c,d))\n",
    "                    \n",
    "                elif a == c == d and a!= b and a!=d: #metrichor calls SNP, albacore and msq agree with ref\n",
    "                    match_count_dict['metrichor_calls_SNP,albacore_msq_and_ref_match'].append((a,b,c,d))\n",
    "                    \n",
    "                elif b == c and a == d and a != b: #metri and alba call SNP, ref and miseq do not\n",
    "                    match_count_dict['albacore_metrichor_call_SNP,miseq_matches_ref'].append((a,b,c,d))\n",
    "                    \n",
    "                elif a == b == c and a != d: #miseq calls SNP, metrichor, albacore, and reference agree\n",
    "                    match_count_dict['miseq_calls_SNP,metrichor_albacore_ref_match'].append((a,b,c,d))\n",
    "                \n",
    "                elif a == d and a != b and a != c and b != c:\n",
    "                    match_count_dict['miseq_and_ref_agree,albacore_metrichor_each_call_diff_SNPs'].append((a,b,c,d))\n",
    "                                        \n",
    "    else:\n",
    "        for (a,b,c) in zip(reference_seq, metrichor_seq, albacore_seq):\n",
    "            if '-' in (a,b,c):\n",
    "                continue\n",
    "            elif 'n' in (a,b,c):\n",
    "                continue\n",
    "            else:\n",
    "                if a == c and a!= b: #ref and albacore match, metrichor does not\n",
    "                    match_count_dict['albacore_and_ref_match,metrichor_calls_SNP'].append((a,b,c))\n",
    "                    \n",
    "                elif a == b and b!= c: #ref and metrichor match, albacore does not\n",
    "                    match_count_dict['metrichor_and_ref_match,albacore_calls_SNP'].append((a,b,c))\n",
    "                    \n",
    "                elif c == b and a!= c: #albacore and metrichor match, base is different from reference\n",
    "                    match_count_dict['metrichor_and_albacore_call_SNP'].append((a,b,c))\n",
    "   \n",
    "\n",
    "    return match_count_dict\n",
    "\n",
    "\n",
    "def read_fasta(infile_path):\n",
    "    seq_dict = {}\n",
    "    with open(infile_path,'rU') as file:\n",
    "        for line in file:\n",
    "            if line.startswith('>'):\n",
    "                header = line.strip().replace('>','')\n",
    "            else:\n",
    "                seq_dict[header] = line.strip()\n",
    "    return seq_dict\n"
   ]
  },
  {
   "cell_type": "markdown",
   "metadata": {},
   "source": [
    "## VI 1 Validation"
   ]
  },
  {
   "cell_type": "code",
   "execution_count": 89,
   "metadata": {
    "collapsed": false
   },
   "outputs": [
    {
     "name": "stdout",
     "output_type": "stream",
     "text": [
      "all_platforms_call_same_SNP: 31 sites\n"
     ]
    }
   ],
   "source": [
    "VI1_dict = read_fasta('/Users/alliblk/Desktop/draft-genome-trial/seq-validation/VI1-seq-comparisons-aligned.fasta')\n",
    "\n",
    "VI1_ref = VI1_dict['KJ776791.2_reference']\n",
    "VI1_met = VI1_dict['VI1_metrichor']\n",
    "VI1_alba = VI1_dict['VI1_albacore']\n",
    "VI1_msq = VI1_dict['VI1_miseq']\n",
    "\n",
    "VI1_comp_dict = assess_matching(VI1_ref, VI1_met, VI1_alba, miseq_seq = VI1_msq)\n",
    "#print VI1_comp_dict.keys()\n",
    "\n",
    "#stats\n",
    "for key in VI1_comp_dict.keys():\n",
    "    print key + ': {} sites'.format(len(VI1_comp_dict[key]))\n"
   ]
  },
  {
   "cell_type": "markdown",
   "metadata": {},
   "source": [
    "## VI2 Validation"
   ]
  },
  {
   "cell_type": "code",
   "execution_count": 90,
   "metadata": {
    "collapsed": false
   },
   "outputs": [
    {
     "name": "stdout",
     "output_type": "stream",
     "text": [
      "albacore_and_ref_match,metrichor_calls_SNP: 3 sites\n",
      "metrichor_and_albacore_call_SNP: 23 sites\n",
      "metrichor_and_ref_match,albacore_calls_SNP: 1 sites\n"
     ]
    }
   ],
   "source": [
    "VI2_dict = read_fasta('/Users/alliblk/Desktop/draft-genome-trial/seq-validation/VI2-seq-comparisons-aligned.fasta')\n",
    "\n",
    "VI2_ref = VI2_dict['KJ776791.2_reference']\n",
    "VI2_met = VI2_dict['VI2_metrichor']\n",
    "VI2_alba = VI2_dict['VI2_albacore']\n",
    "\n",
    "VI2_comp_dict = assess_matching(VI2_ref, VI2_met, VI2_alba)\n",
    "\n",
    "#stats\n",
    "for key in VI2_comp_dict.keys():\n",
    "    print key + ': {} sites'.format(len(VI2_comp_dict[key]))\n"
   ]
  },
  {
   "cell_type": "markdown",
   "metadata": {},
   "source": [
    "## VI3 Validation (this genome was of partial quality) "
   ]
  },
  {
   "cell_type": "code",
   "execution_count": 91,
   "metadata": {
    "collapsed": false
   },
   "outputs": [
    {
     "name": "stdout",
     "output_type": "stream",
     "text": [
      "albacore_and_ref_match,metrichor_calls_SNP: 1 sites\n",
      "metrichor_and_albacore_call_SNP: 20 sites\n",
      "metrichor_and_ref_match,albacore_calls_SNP: 1 sites\n"
     ]
    }
   ],
   "source": [
    "VI3_dict = read_fasta('/Users/alliblk/Desktop/draft-genome-trial/seq-validation/VI3-seq-comparisons-aligned.fasta')\n",
    "\n",
    "VI3_ref = VI3_dict['KJ776791.2_reference']\n",
    "VI3_met = VI3_dict['VI3_metrichor']\n",
    "VI3_alba = VI3_dict['VI3_albacore']\n",
    "\n",
    "VI3_comp_dict = assess_matching(VI3_ref, VI3_met, VI3_alba)\n",
    "\n",
    "#stats\n",
    "for key in VI3_comp_dict.keys():\n",
    "    print key + ': {} sites'.format(len(VI3_comp_dict[key]))"
   ]
  },
  {
   "cell_type": "markdown",
   "metadata": {},
   "source": [
    "## VI4 Validation"
   ]
  },
  {
   "cell_type": "code",
   "execution_count": 92,
   "metadata": {
    "collapsed": false
   },
   "outputs": [
    {
     "name": "stdout",
     "output_type": "stream",
     "text": [
      "albacore_calls_SNP,miseq_and_ref_match: 1 sites\n",
      "all_platforms_call_same_SNP: 30 sites\n"
     ]
    }
   ],
   "source": [
    "VI4_dict = read_fasta('/Users/alliblk/Desktop/draft-genome-trial/seq-validation/VI4-seq-comparisons-aligned.fasta')\n",
    "\n",
    "VI4_ref = VI4_dict['KJ776791.2_reference']\n",
    "VI4_met = VI4_dict['VI4_metrichor']\n",
    "VI4_alba = VI4_dict['VI4_albacore']\n",
    "VI4_msq = VI4_dict['VI4_miseq']\n",
    "\n",
    "VI4_comp_dict = assess_matching(VI4_ref, VI4_met, VI4_alba, miseq_seq = VI4_msq)\n",
    "\n",
    "#stats\n",
    "for key in VI4_comp_dict.keys():\n",
    "    print key + ': {} sites'.format(len(VI4_comp_dict[key]))"
   ]
  },
  {
   "cell_type": "markdown",
   "metadata": {},
   "source": [
    "## VI5 Validation"
   ]
  },
  {
   "cell_type": "code",
   "execution_count": 94,
   "metadata": {
    "collapsed": false
   },
   "outputs": [
    {
     "name": "stdout",
     "output_type": "stream",
     "text": [
      "albacore_and_ref_match,metrichor_calls_SNP: 3 sites\n",
      "metrichor_and_albacore_call_SNP: 35 sites\n",
      "metrichor_and_ref_match,albacore_calls_SNP: 1 sites\n"
     ]
    }
   ],
   "source": [
    "VI5_dict = read_fasta('/Users/alliblk/Desktop/draft-genome-trial/seq-validation/VI5-seq-comparisons-aligned.fasta')\n",
    "\n",
    "VI5_ref = VI5_dict['KJ776791.2_reference']\n",
    "VI5_met = VI5_dict['VI5_metrichor']\n",
    "VI5_alba = VI5_dict['VI5_albacore']\n",
    "\n",
    "VI5_comp_dict = assess_matching(VI5_ref, VI5_met, VI5_alba)\n",
    "\n",
    "#stats\n",
    "for key in VI5_comp_dict.keys():\n",
    "    print key + ': {} sites'.format(len(VI5_comp_dict[key]))"
   ]
  },
  {
   "cell_type": "markdown",
   "metadata": {},
   "source": [
    "## VI19 Validation"
   ]
  },
  {
   "cell_type": "code",
   "execution_count": 95,
   "metadata": {
    "collapsed": false
   },
   "outputs": [
    {
     "name": "stdout",
     "output_type": "stream",
     "text": [
      "metrichor_and_albacore_call_SNP: 40 sites\n"
     ]
    }
   ],
   "source": [
    "VI19_dict = read_fasta('/Users/alliblk/Desktop/draft-genome-trial/seq-validation/VI19-seq-comparisons-aligned.fasta')\n",
    "\n",
    "VI19_ref = VI19_dict['KJ776791.2_reference']\n",
    "VI19_met = VI19_dict['VI19_metrichor']\n",
    "VI19_alba = VI19_dict['VI19_albacore']\n",
    "\n",
    "VI19_comp_dict = assess_matching(VI19_ref, VI19_met, VI19_alba)\n",
    "\n",
    "#stats\n",
    "for key in VI19_comp_dict.keys():\n",
    "    print key + ': {} sites'.format(len(VI19_comp_dict[key]))"
   ]
  }
 ],
 "metadata": {
  "kernelspec": {
   "display_name": "Python 2",
   "language": "python",
   "name": "python2"
  },
  "language_info": {
   "codemirror_mode": {
    "name": "ipython",
    "version": 2
   },
   "file_extension": ".py",
   "mimetype": "text/x-python",
   "name": "python",
   "nbconvert_exporter": "python",
   "pygments_lexer": "ipython2",
   "version": "2.7.10"
  }
 },
 "nbformat": 4,
 "nbformat_minor": 0
}
