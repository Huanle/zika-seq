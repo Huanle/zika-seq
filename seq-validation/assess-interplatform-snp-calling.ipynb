{
 "cells": [
  {
   "cell_type": "code",
   "execution_count": 5,
   "metadata": {
    "collapsed": false
   },
   "outputs": [],
   "source": [
    "from collections import defaultdict\n",
    "import pandas as pd"
   ]
  },
  {
   "cell_type": "markdown",
   "metadata": {},
   "source": [
    "# Compare SNP calls between 2D-sequenced genomes called by Metrichor + Nanopolish, Albacore 2D caller without Nanopolish, and MiSeq\n",
    "\n",
    "Our goal here is to perform some validation of the old and new MinION base callers (Metrichor and Albacore respectively). For two samples we also have validation data from the Illumina MiSeq as well.\n",
    "\n",
    "All sequences were aligned with Mafft using the linsi algorithm.\n"
   ]
  },
  {
   "cell_type": "code",
   "execution_count": 23,
   "metadata": {
    "collapsed": false
   },
   "outputs": [],
   "source": [
    "##### functions #####\n",
    "\n",
    "def assess_matching( reference_seq, metrichor_seq, albacore_seq, miseq_seq = None):\n",
    "    match_count_dict = defaultdict(list)\n",
    "    \n",
    "    if miseq_seq:\n",
    "        for (a,b,c,d) in zip(reference_seq, metrichor_seq, albacore_seq, miseq_seq):\n",
    "            if '-' in (a,b,c,d):\n",
    "                continue\n",
    "            elif 'n' in (a,b,c,d):\n",
    "                continue\n",
    "            else:\n",
    "                #All 3 platforms call SNP, gold standard agreement\n",
    "                if b == c == d and a!= b:\n",
    "                    match_count_dict['all_platforms_call_same_SNP'].append((a,b,c,d))\n",
    "                    \n",
    "                elif b == d and c!= b: #metrichor and miseq match, albacore calls SNP\n",
    "                    match_count_dict['metrichor_and_miseq_match,albacore_calls_SNP'].append((a,b,c))\n",
    "                    \n",
    "                elif c == d and b != c: #albacore and miseq match, metrichor calls SNP\n",
    "                    match_count_dict['albacore_and_miseq_match,metrichor_calls_SNP'].append((a,b,c))\n",
    "                    \n",
    "                elif b == c and b!= d: #albacore and metrichor both call SNP, miseq does not \n",
    "                    match_count_dict['metrichor_and_albacore_call_SNP,miseq_does_not'].append((a,b,c))                \n",
    "                                        \n",
    "    else:\n",
    "        for (a,b,c) in zip(reference_seq, metrichor_seq, albacore_seq):\n",
    "            if '-' in (a,b,c):\n",
    "                continue\n",
    "            elif 'n' in (a,b,c):\n",
    "                continue\n",
    "            else:\n",
    "                if a == c and a!= b: #ref and albacore match, metrichor does not\n",
    "                    match_count_dict['albacore_and_ref_match,metrichor_calls_SNP'].append((a,b,c))\n",
    "                    \n",
    "                elif a == b and b!= c: #ref and metrichor match, albacore does not\n",
    "                    match_count_dict['metrichor_and_ref_match,albacore_calls_SNP'].append((a,b,c))\n",
    "                    \n",
    "                elif c == b and a!= c: #albacore and metrichor match, base is different from reference\n",
    "                    match_count_dict['metrichor_and_albacore_call_SNP'].append((a,b,c))\n",
    "                    \n",
    "    return match_count_dict\n",
    "\n",
    "\n",
    "\n",
    "def assess_nanopolish(reference_seq, polished_seq, unpolished_seq):\n",
    "    match_count_dict = defaultdict(list)\n",
    "    \n",
    "    for (a,b,c) in zip(reference_seq, polished_seq, unpolished_seq):\n",
    "        if '-' in (a,b,c):\n",
    "            continue\n",
    "        elif 'n' in (a,b,c):\n",
    "            continue\n",
    "        else:\n",
    "            if a == c and a!= b: #ref and unpolished match, polished does not\n",
    "                match_count_dict['ref_and_unpolished_match,polished_calls_SNP'].append((a,b,c))\n",
    "                    \n",
    "            elif a == b and b!= c: #ref and polished match, unpolished does not\n",
    "                match_count_dict['ref_and_polished_match,unpolished_calls_SNP'].append((a,b,c))\n",
    "                    \n",
    "            elif c == b and a!= c: #albacore and metrichor match, base is different from reference\n",
    "                match_count_dict['both_polished_and_unpolished_call_SNP'].append((a,b,c))\n",
    "    \n",
    "    return match_count_dict\n",
    "\n",
    "\n",
    "\n",
    "def read_fasta(infile_path):\n",
    "    seq_dict = {}\n",
    "    with open(infile_path,'rU') as file:\n",
    "        for line in file:\n",
    "            if line.startswith('>'):\n",
    "                header = line.strip().replace('>','')\n",
    "            else:\n",
    "                seq_dict[header] = line.strip()\n",
    "    return seq_dict\n",
    "\n",
    "\n",
    "\n",
    "def binary_ref_match( reference_seq, metrichor_seq, albacore_seq, miseq_seq = None):\n",
    "    mismatch_columns = []\n",
    "    \n",
    "    if miseq_seq:\n",
    "        for (a,b,c,d) in zip(reference_seq, metrichor_seq, albacore_seq, miseq_seq):\n",
    "            if '-' in (a,b,c,d):\n",
    "                continue\n",
    "            elif 'n' in (a,b,c,d):\n",
    "                continue\n",
    "            else:\n",
    "                if (a != b) or (a != c) or (a != d): #if any sequence disagrees with ref\n",
    "                    mismatch_columns.append([a,b,c,d])                                      \n",
    "    else:\n",
    "        for (a,b,c) in zip(reference_seq, metrichor_seq, albacore_seq):\n",
    "            if '-' in (a,b,c):\n",
    "                continue\n",
    "            elif 'n' in (a,b,c):\n",
    "                continue\n",
    "            else:\n",
    "                if (a != b) or (a != c):\n",
    "                    mismatch_columns.append([a,b,c])\n",
    "                    \n",
    "    binary_columns = []\n",
    "    for column in mismatch_columns:\n",
    "        binary_column = [0] #ref always truth so always 0\n",
    "        for base in column[1:]: # don't evaluate the ref\n",
    "            if base != column[0]:\n",
    "                binary_column.append(1)\n",
    "            else:\n",
    "                binary_column.append(0)\n",
    "        binary_columns.append(binary_column)\n",
    "    \n",
    "    return binary_columns"
   ]
  },
  {
   "cell_type": "markdown",
   "metadata": {},
   "source": [
    "### VI 1 Validation"
   ]
  },
  {
   "cell_type": "code",
   "execution_count": 9,
   "metadata": {
    "collapsed": false
   },
   "outputs": [
    {
     "name": "stdout",
     "output_type": "stream",
     "text": [
      "metrichor_and_miseq_match,albacore_calls_SNP: 4 sites\n",
      "all_platforms_call_same_SNP: 31 sites\n"
     ]
    }
   ],
   "source": [
    "VI1_dict = read_fasta('/Users/alliblk/Desktop/gitrepos/zika-seq/seq-validation/VI1-seq-comparisons-aligned.fasta')\n",
    "\n",
    "VI1_ref = VI1_dict['KJ776791.2_reference']\n",
    "VI1_met = VI1_dict['VI1_metrichor']\n",
    "VI1_alba = VI1_dict['VI1_albacore']\n",
    "VI1_msq = VI1_dict['VI1_miseq']\n",
    "\n",
    "VI1_comp_dict = assess_matching(VI1_ref, VI1_met, VI1_alba, miseq_seq = VI1_msq)\n",
    "#print VI1_comp_dict.keys()\n",
    "\n",
    "#stats\n",
    "for key in VI1_comp_dict.keys():\n",
    "    print key + ': {} sites'.format(len(VI1_comp_dict[key]))\n"
   ]
  },
  {
   "cell_type": "code",
   "execution_count": 5,
   "metadata": {
    "collapsed": false
   },
   "outputs": [],
   "source": [
    "VI1_binary = binary_ref_match(VI1_ref,VI1_met,VI1_alba,VI1_msq)\n",
    "VI1_df = pd.DataFrame(VI1_binary, columns=['Reference', 'Metrichor', 'Albacore','MiSeq'])\n",
    "VI1_df.to_csv(path_or_buf='/Users/alliblk/Desktop/gitrepos/zika-seq/seq-validation/VI1_SNPcall_comparisons.tsv', sep='\\t', index=False)"
   ]
  },
  {
   "cell_type": "markdown",
   "metadata": {},
   "source": [
    "### VI2 Validation"
   ]
  },
  {
   "cell_type": "code",
   "execution_count": 10,
   "metadata": {
    "collapsed": false
   },
   "outputs": [
    {
     "name": "stdout",
     "output_type": "stream",
     "text": [
      "albacore_and_ref_match,metrichor_calls_SNP: 3 sites\n",
      "metrichor_and_albacore_call_SNP: 23 sites\n",
      "metrichor_and_ref_match,albacore_calls_SNP: 1 sites\n"
     ]
    }
   ],
   "source": [
    "VI2_dict = read_fasta('/Users/alliblk/Desktop/gitrepos/zika-seq/seq-validation/VI2-seq-comparisons-aligned.fasta')\n",
    "\n",
    "VI2_ref = VI2_dict['KJ776791.2_reference']\n",
    "VI2_met = VI2_dict['VI2_metrichor']\n",
    "VI2_alba = VI2_dict['VI2_albacore']\n",
    "\n",
    "VI2_comp_dict = assess_matching(VI2_ref, VI2_met, VI2_alba)\n",
    "\n",
    "#stats\n",
    "for key in VI2_comp_dict.keys():\n",
    "    print key + ': {} sites'.format(len(VI2_comp_dict[key]))\n"
   ]
  },
  {
   "cell_type": "code",
   "execution_count": 8,
   "metadata": {
    "collapsed": false
   },
   "outputs": [],
   "source": [
    "VI2_binary = binary_ref_match(VI2_ref,VI2_met,VI2_alba)\n",
    "VI2_df = pd.DataFrame(VI2_binary, columns=['Reference', 'Metrichor', 'Albacore'])\n",
    "VI2_df.to_csv(path_or_buf='/Users/alliblk/Desktop/gitrepos/zika-seq/seq-validation/VI2_SNPcall_comparisons.tsv', sep='\\t', index=False)"
   ]
  },
  {
   "cell_type": "markdown",
   "metadata": {},
   "source": [
    "### VI3 Validation (this genome was of partial quality) "
   ]
  },
  {
   "cell_type": "code",
   "execution_count": 11,
   "metadata": {
    "collapsed": false
   },
   "outputs": [
    {
     "name": "stdout",
     "output_type": "stream",
     "text": [
      "albacore_and_ref_match,metrichor_calls_SNP: 1 sites\n",
      "metrichor_and_albacore_call_SNP: 20 sites\n",
      "metrichor_and_ref_match,albacore_calls_SNP: 1 sites\n"
     ]
    }
   ],
   "source": [
    "VI3_dict = read_fasta('/Users/alliblk/Desktop/gitrepos/zika-seq/seq-validation/VI3-seq-comparisons-aligned.fasta')\n",
    "\n",
    "VI3_ref = VI3_dict['KJ776791.2_reference']\n",
    "VI3_met = VI3_dict['VI3_metrichor']\n",
    "VI3_alba = VI3_dict['VI3_albacore']\n",
    "\n",
    "VI3_comp_dict = assess_matching(VI3_ref, VI3_met, VI3_alba)\n",
    "\n",
    "#stats\n",
    "for key in VI3_comp_dict.keys():\n",
    "    print key + ': {} sites'.format(len(VI3_comp_dict[key]))"
   ]
  },
  {
   "cell_type": "code",
   "execution_count": 10,
   "metadata": {
    "collapsed": false
   },
   "outputs": [],
   "source": [
    "VI3_binary = binary_ref_match(VI3_ref,VI3_met,VI3_alba)\n",
    "VI3_df = pd.DataFrame(VI3_binary, columns=['Reference', 'Metrichor', 'Albacore'])\n",
    "VI3_df.to_csv(path_or_buf='/Users/alliblk/Desktop/gitrepos/zika-seq/seq-validation/VI3_SNPcall_comparisons.tsv', sep='\\t', index=False)"
   ]
  },
  {
   "cell_type": "markdown",
   "metadata": {},
   "source": [
    "### VI4 Validation"
   ]
  },
  {
   "cell_type": "code",
   "execution_count": 12,
   "metadata": {
    "collapsed": false
   },
   "outputs": [
    {
     "name": "stdout",
     "output_type": "stream",
     "text": [
      "metrichor_and_miseq_match,albacore_calls_SNP: 8 sites\n",
      "albacore_and_miseq_match,metrichor_calls_SNP: 1 sites\n",
      "all_platforms_call_same_SNP: 30 sites\n"
     ]
    }
   ],
   "source": [
    "VI4_dict = read_fasta('/Users/alliblk/Desktop/gitrepos/zika-seq/seq-validation/VI4-seq-comparisons-aligned.fasta')\n",
    "\n",
    "VI4_ref = VI4_dict['KJ776791.2_reference']\n",
    "VI4_met = VI4_dict['VI4_metrichor']\n",
    "VI4_alba = VI4_dict['VI4_albacore']\n",
    "VI4_msq = VI4_dict['VI4_miseq']\n",
    "\n",
    "VI4_comp_dict = assess_matching(VI4_ref, VI4_met, VI4_alba, miseq_seq = VI4_msq)\n",
    "\n",
    "#stats\n",
    "for key in VI4_comp_dict.keys():\n",
    "    print key + ': {} sites'.format(len(VI4_comp_dict[key]))"
   ]
  },
  {
   "cell_type": "code",
   "execution_count": 12,
   "metadata": {
    "collapsed": false
   },
   "outputs": [],
   "source": [
    "VI4_binary = binary_ref_match(VI4_ref,VI4_met,VI4_alba,VI4_msq)\n",
    "VI4_df = pd.DataFrame(VI4_binary, columns=['Reference', 'Metrichor', 'Albacore','MiSeq'])\n",
    "VI4_df.to_csv(path_or_buf='/Users/alliblk/Desktop/gitrepos/zika-seq/seq-validation/VI4_SNPcall_comparisons.tsv', sep='\\t', index=False)"
   ]
  },
  {
   "cell_type": "markdown",
   "metadata": {},
   "source": [
    "### VI5 Validation"
   ]
  },
  {
   "cell_type": "code",
   "execution_count": 13,
   "metadata": {
    "collapsed": false
   },
   "outputs": [
    {
     "name": "stdout",
     "output_type": "stream",
     "text": [
      "albacore_and_ref_match,metrichor_calls_SNP: 3 sites\n",
      "metrichor_and_albacore_call_SNP: 35 sites\n",
      "metrichor_and_ref_match,albacore_calls_SNP: 1 sites\n"
     ]
    }
   ],
   "source": [
    "VI5_dict = read_fasta('/Users/alliblk/Desktop/gitrepos/zika-seq/seq-validation/VI5-seq-comparisons-aligned.fasta')\n",
    "\n",
    "VI5_ref = VI5_dict['KJ776791.2_reference']\n",
    "VI5_met = VI5_dict['VI5_metrichor']\n",
    "VI5_alba = VI5_dict['VI5_albacore']\n",
    "\n",
    "VI5_comp_dict = assess_matching(VI5_ref, VI5_met, VI5_alba)\n",
    "\n",
    "#stats\n",
    "for key in VI5_comp_dict.keys():\n",
    "    print key + ': {} sites'.format(len(VI5_comp_dict[key]))"
   ]
  },
  {
   "cell_type": "code",
   "execution_count": 14,
   "metadata": {
    "collapsed": false
   },
   "outputs": [],
   "source": [
    "VI5_binary = binary_ref_match(VI5_ref,VI5_met,VI5_alba)\n",
    "VI5_df = pd.DataFrame(VI5_binary, columns=['Reference', 'Metrichor', 'Albacore'])\n",
    "VI5_df.to_csv(path_or_buf='/Users/alliblk/Desktop/gitrepos/zika-seq/seq-validation/VI5_SNPcall_comparisons.tsv', sep='\\t', index=False)"
   ]
  },
  {
   "cell_type": "markdown",
   "metadata": {},
   "source": [
    "### VI19 Validation"
   ]
  },
  {
   "cell_type": "code",
   "execution_count": 15,
   "metadata": {
    "collapsed": false
   },
   "outputs": [
    {
     "name": "stdout",
     "output_type": "stream",
     "text": [
      "metrichor_and_albacore_call_SNP: 40 sites\n"
     ]
    }
   ],
   "source": [
    "VI19_dict = read_fasta('/Users/alliblk/Desktop/gitrepos/zika-seq/seq-validation/VI19-seq-comparisons-aligned.fasta')\n",
    "\n",
    "VI19_ref = VI19_dict['KJ776791.2_reference']\n",
    "VI19_met = VI19_dict['VI19_metrichor']\n",
    "VI19_alba = VI19_dict['VI19_albacore']\n",
    "\n",
    "VI19_comp_dict = assess_matching(VI19_ref, VI19_met, VI19_alba)\n",
    "\n",
    "#stats\n",
    "for key in VI19_comp_dict.keys():\n",
    "    print key + ': {} sites'.format(len(VI19_comp_dict[key]))"
   ]
  },
  {
   "cell_type": "code",
   "execution_count": 16,
   "metadata": {
    "collapsed": false
   },
   "outputs": [],
   "source": [
    "VI19_binary = binary_ref_match(VI19_ref,VI19_met,VI19_alba)\n",
    "VI19_df = pd.DataFrame(VI19_binary, columns=['Reference', 'Metrichor', 'Albacore'])\n",
    "VI19_df.to_csv(path_or_buf='/Users/alliblk/Desktop/gitrepos/zika-seq/seq-validation/VI19_SNPcall_comparisons.tsv', sep='\\t', index=False)"
   ]
  },
  {
   "cell_type": "markdown",
   "metadata": {},
   "source": [
    "# Comparing nanopolished to non-nanopolished 1D sequenced samples\n",
    "\n",
    "Given the depth we were getting from 1D libraries, we thought that sheer number of reads might overcome high errors rates of a single read. Here, we are comparing SNP calls between a MinION 1D-sequenced genome with good coverage where the consensus sequence was generated by majority call from Geneious, and a consensus genome called with out python script (`margin_cons.py`) using variant calls made by Nanopolish."
   ]
  },
  {
   "cell_type": "markdown",
   "metadata": {},
   "source": [
    "### VI41 Valdiation"
   ]
  },
  {
   "cell_type": "code",
   "execution_count": 24,
   "metadata": {
    "collapsed": false
   },
   "outputs": [
    {
     "name": "stdout",
     "output_type": "stream",
     "text": [
      "ref_and_polished_match,unpolished_calls_SNP: 2 sites\n",
      "both_polished_and_unpolished_call_SNP: 38 sites\n"
     ]
    }
   ],
   "source": [
    "VI41_dict = read_fasta('/Users/alliblk/Desktop/gitrepos/zika-seq/seq-validation/VI41-ref-nanopolish-comp-aligned.fasta')\n",
    "\n",
    "VI41_ref = VI41_dict['KJ776791.2_reference']\n",
    "VI41_polished = VI41_dict['VI41_albacore_polished']\n",
    "VI41_unpolished = VI41_dict['VI41_not_polished']\n",
    "\n",
    "VI41_comp_dict = assess_nanopolish(VI41_ref, VI41_polished, VI41_unpolished)\n",
    "\n",
    "for key in VI41_comp_dict.keys():\n",
    "    print key + ': {} sites'.format(len(VI41_comp_dict[key]))"
   ]
  },
  {
   "cell_type": "code",
   "execution_count": 28,
   "metadata": {
    "collapsed": false
   },
   "outputs": [],
   "source": [
    "VI41_binary = binary_ref_match(VI41_ref, VI41_polished, VI41_unpolished)\n",
    "VI41_df = pd.DataFrame(VI41_binary, columns=['Reference', 'Nanopolished', 'Not_Nanopolished'])\n",
    "VI41_df.to_csv(path_or_buf='/Users/alliblk/Desktop/gitrepos/zika-seq/seq-validation/VI41_SNPcall_comparisons.tsv', sep='\\t', index=False)"
   ]
  }
 ],
 "metadata": {
  "kernelspec": {
   "display_name": "Python 2",
   "language": "python",
   "name": "python2"
  },
  "language_info": {
   "codemirror_mode": {
    "name": "ipython",
    "version": 2
   },
   "file_extension": ".py",
   "mimetype": "text/x-python",
   "name": "python",
   "nbconvert_exporter": "python",
   "pygments_lexer": "ipython2",
   "version": "2.7.10"
  }
 },
 "nbformat": 4,
 "nbformat_minor": 0
}
